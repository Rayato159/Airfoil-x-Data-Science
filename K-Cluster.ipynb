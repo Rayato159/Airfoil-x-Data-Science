{
 "cells": [
  {
   "cell_type": "markdown",
   "metadata": {},
   "source": [
    "# Import library"
   ]
  },
  {
   "cell_type": "code",
   "execution_count": 1,
   "metadata": {},
   "outputs": [],
   "source": [
    "import numpy as np\n",
    "import pandas as pd\n",
    "import matplotlib.pyplot as plt\n",
    "import seaborn as sns\n",
    "%matplotlib inline"
   ]
  },
  {
   "cell_type": "markdown",
   "metadata": {},
   "source": [
    "# Import airfoils data"
   ]
  },
  {
   "cell_type": "code",
   "execution_count": 2,
   "metadata": {
    "scrolled": true
   },
   "outputs": [
    {
     "data": {
      "text/html": [
       "<div>\n",
       "<style scoped>\n",
       "    .dataframe tbody tr th:only-of-type {\n",
       "        vertical-align: middle;\n",
       "    }\n",
       "\n",
       "    .dataframe tbody tr th {\n",
       "        vertical-align: top;\n",
       "    }\n",
       "\n",
       "    .dataframe thead th {\n",
       "        text-align: right;\n",
       "    }\n",
       "</style>\n",
       "<table border=\"1\" class=\"dataframe\">\n",
       "  <thead>\n",
       "    <tr style=\"text-align: right;\">\n",
       "      <th></th>\n",
       "      <th>Airfoils</th>\n",
       "      <th>t0.75c</th>\n",
       "      <th>Cd</th>\n",
       "      <th>Cl/Cd</th>\n",
       "    </tr>\n",
       "  </thead>\n",
       "  <tbody>\n",
       "    <tr>\n",
       "      <th>117</th>\n",
       "      <td>LDS-2</td>\n",
       "      <td>0.059818</td>\n",
       "      <td>0.01169</td>\n",
       "      <td>42.771600</td>\n",
       "    </tr>\n",
       "    <tr>\n",
       "      <th>17</th>\n",
       "      <td>NACA 64(1)-212 MOD A</td>\n",
       "      <td>0.053871</td>\n",
       "      <td>0.01295</td>\n",
       "      <td>38.610039</td>\n",
       "    </tr>\n",
       "    <tr>\n",
       "      <th>106</th>\n",
       "      <td>NACA 4415</td>\n",
       "      <td>0.079190</td>\n",
       "      <td>0.01179</td>\n",
       "      <td>42.408821</td>\n",
       "    </tr>\n",
       "    <tr>\n",
       "      <th>137</th>\n",
       "      <td>EPPLER 520</td>\n",
       "      <td>0.063700</td>\n",
       "      <td>0.01094</td>\n",
       "      <td>45.703839</td>\n",
       "    </tr>\n",
       "    <tr>\n",
       "      <th>107</th>\n",
       "      <td>NACA 4418</td>\n",
       "      <td>0.094450</td>\n",
       "      <td>0.01534</td>\n",
       "      <td>32.594524</td>\n",
       "    </tr>\n",
       "  </tbody>\n",
       "</table>\n",
       "</div>"
      ],
      "text/plain": [
       "                 Airfoils    t0.75c       Cd      Cl/Cd\n",
       "117                 LDS-2  0.059818  0.01169  42.771600\n",
       "17   NACA 64(1)-212 MOD A  0.053871  0.01295  38.610039\n",
       "106             NACA 4415  0.079190  0.01179  42.408821\n",
       "137            EPPLER 520  0.063700  0.01094  45.703839\n",
       "107             NACA 4418  0.094450  0.01534  32.594524"
      ]
     },
     "execution_count": 2,
     "metadata": {},
     "output_type": "execute_result"
    }
   ],
   "source": [
    "df = pd.read_csv('Airfoil.csv')\n",
    "df.drop(['upper0.75c', 'lower0.75c', 'AoF_Cl0.5'], axis=1, inplace=True)\n",
    "df.sample(5)"
   ]
  },
  {
   "cell_type": "markdown",
   "metadata": {},
   "source": [
    "# Scaler processing"
   ]
  },
  {
   "cell_type": "code",
   "execution_count": 3,
   "metadata": {},
   "outputs": [],
   "source": [
    "from sklearn import preprocessing\n",
    "from sklearn.cluster import KMeans"
   ]
  },
  {
   "cell_type": "code",
   "execution_count": 4,
   "metadata": {},
   "outputs": [],
   "source": [
    "cols = ['t0.75c', 'Cd', 'Cl/Cd']"
   ]
  },
  {
   "cell_type": "code",
   "execution_count": 5,
   "metadata": {},
   "outputs": [
    {
     "data": {
      "image/png": "[encoded data removed]",
      "text/plain": [
       "<Figure size 648x180 with 3 Axes>"
      ]
     },
     "metadata": {
      "needs_background": "light"
     },
     "output_type": "display_data"
    }
   ],
   "source": [
    "df[cols].hist(layout=(1, len(cols)), figsize=(3*len(cols),2.5));"
   ]
  },
  {
   "cell_type": "code",
   "execution_count": 6,
   "metadata": {},
   "outputs": [
    {
     "data": {
      "text/plain": [
       "array([[-0.83578211, -0.23485399,  0.21170231],\n",
       "       [-0.32948228, -0.19339815,  0.17074216],\n",
       "       [ 0.32569592,  0.36453259, -0.37220145],\n",
       "       [-1.27289825, -0.92403057,  0.90990085],\n",
       "       [-0.82361619, -0.86052133,  0.8440273 ]])"
      ]
     },
     "execution_count": 6,
     "metadata": {},
     "output_type": "execute_result"
    }
   ],
   "source": [
    "scaler = preprocessing.PowerTransformer(standardize=True)\n",
    "S = scaler.fit_transform(df[cols])\n",
    "S[:5]"
   ]
  },
  {
   "cell_type": "code",
   "execution_count": 7,
   "metadata": {
    "scrolled": true
   },
   "outputs": [
    {
     "data": {
      "text/html": [
       "<div>\n",
       "<style scoped>\n",
       "    .dataframe tbody tr th:only-of-type {\n",
       "        vertical-align: middle;\n",
       "    }\n",
       "\n",
       "    .dataframe tbody tr th {\n",
       "        vertical-align: top;\n",
       "    }\n",
       "\n",
       "    .dataframe thead th {\n",
       "        text-align: right;\n",
       "    }\n",
       "</style>\n",
       "<table border=\"1\" class=\"dataframe\">\n",
       "  <thead>\n",
       "    <tr style=\"text-align: right;\">\n",
       "      <th></th>\n",
       "      <th>t0.75c</th>\n",
       "      <th>Cd</th>\n",
       "      <th>Cl/Cd</th>\n",
       "    </tr>\n",
       "  </thead>\n",
       "  <tbody>\n",
       "    <tr>\n",
       "      <th>0</th>\n",
       "      <td>-0.835782</td>\n",
       "      <td>-0.234854</td>\n",
       "      <td>0.211702</td>\n",
       "    </tr>\n",
       "    <tr>\n",
       "      <th>1</th>\n",
       "      <td>-0.329482</td>\n",
       "      <td>-0.193398</td>\n",
       "      <td>0.170742</td>\n",
       "    </tr>\n",
       "    <tr>\n",
       "      <th>2</th>\n",
       "      <td>0.325696</td>\n",
       "      <td>0.364533</td>\n",
       "      <td>-0.372201</td>\n",
       "    </tr>\n",
       "    <tr>\n",
       "      <th>3</th>\n",
       "      <td>-1.272898</td>\n",
       "      <td>-0.924031</td>\n",
       "      <td>0.909901</td>\n",
       "    </tr>\n",
       "    <tr>\n",
       "      <th>4</th>\n",
       "      <td>-0.823616</td>\n",
       "      <td>-0.860521</td>\n",
       "      <td>0.844027</td>\n",
       "    </tr>\n",
       "  </tbody>\n",
       "</table>\n",
       "</div>"
      ],
      "text/plain": [
       "     t0.75c        Cd     Cl/Cd\n",
       "0 -0.835782 -0.234854  0.211702\n",
       "1 -0.329482 -0.193398  0.170742\n",
       "2  0.325696  0.364533 -0.372201\n",
       "3 -1.272898 -0.924031  0.909901\n",
       "4 -0.823616 -0.860521  0.844027"
      ]
     },
     "execution_count": 7,
     "metadata": {},
     "output_type": "execute_result"
    }
   ],
   "source": [
    "X = pd.DataFrame(S, columns=cols)\n",
    "X.head()"
   ]
  },
  {
   "cell_type": "code",
   "execution_count": 8,
   "metadata": {
    "scrolled": true
   },
   "outputs": [
    {
     "data": {
      "image/png": "[encoded data removed]",
      "text/plain": [
       "<Figure size 648x180 with 3 Axes>"
      ]
     },
     "metadata": {
      "needs_background": "light"
     },
     "output_type": "display_data"
    }
   ],
   "source": [
    "X[cols].hist(layout=(1, len(cols)), figsize=(3*len(cols),2.5), color='#ffcc00');"
   ]
  },
  {
   "cell_type": "markdown",
   "metadata": {},
   "source": [
    "# Used K means clustering algorithm (Machine Learning)"
   ]
  },
  {
   "cell_type": "code",
   "execution_count": 9,
   "metadata": {},
   "outputs": [],
   "source": [
    "from sklearn.cluster import KMeans\n",
    "from sklearn.metrics import silhouette_samples, silhouette_score\n",
    "from yellowbrick.cluster import SilhouetteVisualizer"
   ]
  },
  {
   "cell_type": "code",
   "execution_count": 10,
   "metadata": {},
   "outputs": [],
   "source": [
    "def sil_score(X, from_k=2, to_k=6):\n",
    "    '''\n",
    "    calculate silhouette score for k clusters\n",
    "    '''\n",
    "    sils=[]\n",
    "    for k in range(from_k, to_k + 1):\n",
    "        m = KMeans(n_clusters=k)\n",
    "        m.fit(X)\n",
    "        # The silhouette_score gives the average value for all the samples\n",
    "        silhouette_avg = silhouette_score(X, m.labels_).round(4)\n",
    "        sils.append([silhouette_avg, k])\n",
    "        \n",
    "    return sils"
   ]
  },
  {
   "cell_type": "markdown",
   "metadata": {},
   "source": [
    "This is function for calculate the number of cluster."
   ]
  },
  {
   "cell_type": "code",
   "execution_count": 11,
   "metadata": {},
   "outputs": [
    {
     "name": "stdout",
     "output_type": "stream",
     "text": [
      "scores = [[0.4772, 2], [0.3811, 3], [0.3518, 4], [0.3561, 5]]\n",
      "optimal number of clusters = 2\n"
     ]
    }
   ],
   "source": [
    "ss=sil_score(X, 2, 5)\n",
    "print(f'scores = {ss}')\n",
    "print(f'optimal number of clusters = {max(ss)[1]}')"
   ]
  },
  {
   "cell_type": "markdown",
   "metadata": {},
   "source": [
    "If score is high that's mean it's good.\n",
    "But we choose divide in 3 cluster, because it's expediently for analysis."
   ]
  },
  {
   "cell_type": "code",
   "execution_count": 12,
   "metadata": {},
   "outputs": [],
   "source": [
    "def silhouette_plot(X, from_k, to_k):\n",
    "    sil_scores=[]\n",
    "    for k in range(from_k, to_k + 1):\n",
    "        # Instantiate the clustering model and visualizer\n",
    "        m = KMeans(n_clusters=k)\n",
    "        visualizer = SilhouetteVisualizer(m)\n",
    "        visualizer.fit(X) # Fit the training data to the visualizer\n",
    "        visualizer.poof() # Draw/show/poof the data\n",
    "#         print(visualizer.silhouette_score_)\n",
    "#         sil_scores.append([k, visualizer.silhouette_score_])\n",
    "        sil_scores.append([visualizer.silhouette_score_, k])\n",
    "    return sil_scores"
   ]
  },
  {
   "cell_type": "markdown",
   "metadata": {},
   "source": [
    "This is function for plot the mean score cluster."
   ]
  },
  {
   "cell_type": "code",
   "execution_count": 13,
   "metadata": {
    "scrolled": false
   },
   "outputs": [
    {
     "data": {
      "image/png": "[encoded data removed]",
      "text/plain": [
       "<Figure size 576x396 with 1 Axes>"
      ]
     },
     "metadata": {},
     "output_type": "display_data"
    }
   ],
   "source": [
    "scores=silhouette_plot(X, 3, 3)"
   ]
  },
  {
   "cell_type": "code",
   "execution_count": 14,
   "metadata": {},
   "outputs": [],
   "source": [
    "model = KMeans(n_clusters=3)"
   ]
  },
  {
   "cell_type": "code",
   "execution_count": 15,
   "metadata": {},
   "outputs": [
    {
     "data": {
      "text/plain": [
       "KMeans(algorithm='auto', copy_x=True, init='k-means++', max_iter=300,\n",
       "       n_clusters=3, n_init=10, n_jobs=None, precompute_distances='auto',\n",
       "       random_state=None, tol=0.0001, verbose=0)"
      ]
     },
     "execution_count": 15,
     "metadata": {},
     "output_type": "execute_result"
    }
   ],
   "source": [
    "model.fit(X)"
   ]
  },
  {
   "cell_type": "code",
   "execution_count": 16,
   "metadata": {},
   "outputs": [
    {
     "data": {
      "text/plain": [
       "array([[-0.7952, -1.0941,  1.0968],\n",
       "       [ 1.0117,  1.2014, -1.1859],\n",
       "       [-0.0433,  0.0841, -0.0982]])"
      ]
     },
     "execution_count": 16,
     "metadata": {},
     "output_type": "execute_result"
    }
   ],
   "source": [
    "model.cluster_centers_.round(4)"
   ]
  },
  {
   "cell_type": "code",
   "execution_count": 17,
   "metadata": {},
   "outputs": [
    {
     "data": {
      "text/plain": [
       "array([2, 2, 2, 0, 0, 2, 2, 0, 2, 0, 0, 2, 2, 2, 0, 0, 0, 2, 0, 2, 1, 0,\n",
       "       0, 2, 2, 2, 2, 0, 2, 1, 2, 2, 0, 0, 0, 0, 0, 2, 2, 2, 2, 2, 1, 1,\n",
       "       2, 0, 0, 2, 2, 0, 0, 0, 0, 2, 2, 2, 1, 1, 0, 1, 1, 1, 1, 2, 0, 0,\n",
       "       2, 2, 2, 1, 1, 1, 1, 2, 2, 1, 1, 1, 1, 2, 2, 2, 0, 2, 1, 1, 0, 0,\n",
       "       0, 2, 2, 1, 1, 1, 1, 0, 2, 2, 0, 0, 0, 2, 1, 1, 1, 2, 2, 1, 1, 1,\n",
       "       2, 1, 1, 0, 2, 2, 1, 0, 0, 0, 0, 2, 1, 1, 1, 1, 2, 0, 0, 0, 2, 1,\n",
       "       1, 1, 1, 0, 2, 0, 2, 0, 0, 1, 2, 1, 1, 1, 1, 1, 2, 2, 0, 1, 0, 1,\n",
       "       0, 0, 0, 2, 2, 0, 1, 0, 1, 0, 0, 0, 2, 0, 0, 0, 0, 1, 0, 2, 2, 1,\n",
       "       0, 2, 1, 1, 2, 2, 2, 2, 2, 2, 2, 2, 2, 0, 0, 0, 0, 2])"
      ]
     },
     "execution_count": 17,
     "metadata": {},
     "output_type": "execute_result"
    }
   ],
   "source": [
    "model.labels_"
   ]
  },
  {
   "cell_type": "markdown",
   "metadata": {},
   "source": [
    "Cluster was divide in 3 as 0, 1, 2."
   ]
  },
  {
   "cell_type": "code",
   "execution_count": 18,
   "metadata": {},
   "outputs": [
    {
     "data": {
      "text/html": [
       "<div>\n",
       "<style scoped>\n",
       "    .dataframe tbody tr th:only-of-type {\n",
       "        vertical-align: middle;\n",
       "    }\n",
       "\n",
       "    .dataframe tbody tr th {\n",
       "        vertical-align: top;\n",
       "    }\n",
       "\n",
       "    .dataframe thead th {\n",
       "        text-align: right;\n",
       "    }\n",
       "</style>\n",
       "<table border=\"1\" class=\"dataframe\">\n",
       "  <thead>\n",
       "    <tr style=\"text-align: right;\">\n",
       "      <th></th>\n",
       "      <th>Airfoils</th>\n",
       "      <th>t0.75c</th>\n",
       "      <th>Cd</th>\n",
       "      <th>Cl/Cd</th>\n",
       "      <th>cluster</th>\n",
       "    </tr>\n",
       "  </thead>\n",
       "  <tbody>\n",
       "    <tr>\n",
       "      <th>0</th>\n",
       "      <td>NACA 63A010</td>\n",
       "      <td>0.05090</td>\n",
       "      <td>0.01236</td>\n",
       "      <td>40.453074</td>\n",
       "      <td>2</td>\n",
       "    </tr>\n",
       "    <tr>\n",
       "      <th>1</th>\n",
       "      <td>NACA 63012A</td>\n",
       "      <td>0.06052</td>\n",
       "      <td>0.01244</td>\n",
       "      <td>40.192926</td>\n",
       "      <td>2</td>\n",
       "    </tr>\n",
       "    <tr>\n",
       "      <th>2</th>\n",
       "      <td>NACA 63-015A</td>\n",
       "      <td>0.07462</td>\n",
       "      <td>0.01364</td>\n",
       "      <td>36.656892</td>\n",
       "      <td>2</td>\n",
       "    </tr>\n",
       "    <tr>\n",
       "      <th>3</th>\n",
       "      <td>NACA 63-210</td>\n",
       "      <td>0.04332</td>\n",
       "      <td>0.01117</td>\n",
       "      <td>44.762757</td>\n",
       "      <td>0</td>\n",
       "    </tr>\n",
       "    <tr>\n",
       "      <th>4</th>\n",
       "      <td>NACA 63-212</td>\n",
       "      <td>0.05112</td>\n",
       "      <td>0.01127</td>\n",
       "      <td>44.365572</td>\n",
       "      <td>0</td>\n",
       "    </tr>\n",
       "  </tbody>\n",
       "</table>\n",
       "</div>"
      ],
      "text/plain": [
       "       Airfoils   t0.75c       Cd      Cl/Cd  cluster\n",
       "0   NACA 63A010  0.05090  0.01236  40.453074        2\n",
       "1   NACA 63012A  0.06052  0.01244  40.192926        2\n",
       "2  NACA 63-015A  0.07462  0.01364  36.656892        2\n",
       "3   NACA 63-210  0.04332  0.01117  44.762757        0\n",
       "4   NACA 63-212  0.05112  0.01127  44.365572        0"
      ]
     },
     "execution_count": 18,
     "metadata": {},
     "output_type": "execute_result"
    }
   ],
   "source": [
    "df['cluster']=model.labels_\n",
    "df.head()"
   ]
  },
  {
   "cell_type": "code",
   "execution_count": 19,
   "metadata": {
    "scrolled": true
   },
   "outputs": [
    {
     "data": {
      "image/png": "[encoded data removed]",
      "text/plain": [
       "<Figure size 576x396 with 1 Axes>"
      ]
     },
     "metadata": {},
     "output_type": "display_data"
    }
   ],
   "source": [
    "sns.countplot(x='cluster', data=df);"
   ]
  },
  {
   "cell_type": "code",
   "execution_count": 20,
   "metadata": {},
   "outputs": [
    {
     "data": {
      "image/png": "[encoded data removed]",
      "text/plain": [
       "<Figure size 1440x288 with 3 Axes>"
      ]
     },
     "metadata": {},
     "output_type": "display_data"
    }
   ],
   "source": [
    "cols = ['t0.75c', 'Cd', 'Cl/Cd']\n",
    "fig, ax = plt.subplots(nrows=1, ncols=3, figsize=(20, 4))\n",
    "ax=ax.ravel()\n",
    "for i, col in enumerate(cols):\n",
    "    sns.violinplot(x='cluster', y=col, data=df, ax=ax[i])"
   ]
  },
  {
   "cell_type": "code",
   "execution_count": 21,
   "metadata": {},
   "outputs": [
    {
     "data": {
      "text/html": [
       "<div>\n",
       "<style scoped>\n",
       "    .dataframe tbody tr th:only-of-type {\n",
       "        vertical-align: middle;\n",
       "    }\n",
       "\n",
       "    .dataframe tbody tr th {\n",
       "        vertical-align: top;\n",
       "    }\n",
       "\n",
       "    .dataframe thead th {\n",
       "        text-align: right;\n",
       "    }\n",
       "</style>\n",
       "<table border=\"1\" class=\"dataframe\">\n",
       "  <thead>\n",
       "    <tr style=\"text-align: right;\">\n",
       "      <th></th>\n",
       "      <th>t0.75c</th>\n",
       "      <th>Cd</th>\n",
       "      <th>Cl/Cd</th>\n",
       "      <th>cluster</th>\n",
       "    </tr>\n",
       "  </thead>\n",
       "  <tbody>\n",
       "    <tr>\n",
       "      <th>0</th>\n",
       "      <td>-0.835782</td>\n",
       "      <td>-0.234854</td>\n",
       "      <td>0.211702</td>\n",
       "      <td>2</td>\n",
       "    </tr>\n",
       "    <tr>\n",
       "      <th>1</th>\n",
       "      <td>-0.329482</td>\n",
       "      <td>-0.193398</td>\n",
       "      <td>0.170742</td>\n",
       "      <td>2</td>\n",
       "    </tr>\n",
       "    <tr>\n",
       "      <th>2</th>\n",
       "      <td>0.325696</td>\n",
       "      <td>0.364533</td>\n",
       "      <td>-0.372201</td>\n",
       "      <td>2</td>\n",
       "    </tr>\n",
       "    <tr>\n",
       "      <th>3</th>\n",
       "      <td>-1.272898</td>\n",
       "      <td>-0.924031</td>\n",
       "      <td>0.909901</td>\n",
       "      <td>0</td>\n",
       "    </tr>\n",
       "    <tr>\n",
       "      <th>4</th>\n",
       "      <td>-0.823616</td>\n",
       "      <td>-0.860521</td>\n",
       "      <td>0.844027</td>\n",
       "      <td>0</td>\n",
       "    </tr>\n",
       "  </tbody>\n",
       "</table>\n",
       "</div>"
      ],
      "text/plain": [
       "     t0.75c        Cd     Cl/Cd  cluster\n",
       "0 -0.835782 -0.234854  0.211702        2\n",
       "1 -0.329482 -0.193398  0.170742        2\n",
       "2  0.325696  0.364533 -0.372201        2\n",
       "3 -1.272898 -0.924031  0.909901        0\n",
       "4 -0.823616 -0.860521  0.844027        0"
      ]
     },
     "execution_count": 21,
     "metadata": {},
     "output_type": "execute_result"
    }
   ],
   "source": [
    "dx=X\n",
    "dx['cluster']=model.labels_\n",
    "dx.head()"
   ]
  },
  {
   "cell_type": "code",
   "execution_count": 22,
   "metadata": {},
   "outputs": [
    {
     "data": {
      "text/html": [
       "<div>\n",
       "<style scoped>\n",
       "    .dataframe tbody tr th:only-of-type {\n",
       "        vertical-align: middle;\n",
       "    }\n",
       "\n",
       "    .dataframe tbody tr th {\n",
       "        vertical-align: top;\n",
       "    }\n",
       "\n",
       "    .dataframe thead th {\n",
       "        text-align: right;\n",
       "    }\n",
       "</style>\n",
       "<table border=\"1\" class=\"dataframe\">\n",
       "  <thead>\n",
       "    <tr style=\"text-align: right;\">\n",
       "      <th></th>\n",
       "      <th>t0.75c</th>\n",
       "      <th>Cd</th>\n",
       "      <th>Cl/Cd</th>\n",
       "    </tr>\n",
       "    <tr>\n",
       "      <th>cluster</th>\n",
       "      <th></th>\n",
       "      <th></th>\n",
       "      <th></th>\n",
       "    </tr>\n",
       "  </thead>\n",
       "  <tbody>\n",
       "    <tr>\n",
       "      <th>0</th>\n",
       "      <td>-0.759969</td>\n",
       "      <td>-0.982184</td>\n",
       "      <td>0.970541</td>\n",
       "    </tr>\n",
       "    <tr>\n",
       "      <th>1</th>\n",
       "      <td>1.093808</td>\n",
       "      <td>1.176513</td>\n",
       "      <td>-1.150768</td>\n",
       "    </tr>\n",
       "    <tr>\n",
       "      <th>2</th>\n",
       "      <td>-0.197421</td>\n",
       "      <td>0.076658</td>\n",
       "      <td>-0.093793</td>\n",
       "    </tr>\n",
       "  </tbody>\n",
       "</table>\n",
       "</div>"
      ],
      "text/plain": [
       "           t0.75c        Cd     Cl/Cd\n",
       "cluster                              \n",
       "0       -0.759969 -0.982184  0.970541\n",
       "1        1.093808  1.176513 -1.150768\n",
       "2       -0.197421  0.076658 -0.093793"
      ]
     },
     "execution_count": 22,
     "metadata": {},
     "output_type": "execute_result"
    }
   ],
   "source": [
    "dx.groupby('cluster').median()"
   ]
  },
  {
   "cell_type": "code",
   "execution_count": 23,
   "metadata": {
    "scrolled": false
   },
   "outputs": [
    {
     "data": {
      "image/png": "[encoded data removed]",
      "text/plain": [
       "<Figure size 1296x432 with 4 Axes>"
      ]
     },
     "metadata": {},
     "output_type": "display_data"
    }
   ],
   "source": [
    "cols = ['t0.75c', 'Cd', 'Cl/Cd','cluster']\n",
    "fig, ax = plt.subplots(ncols=2, figsize=(18, 6))\n",
    "ax=ax.ravel()\n",
    "sns.heatmap(df[cols].groupby('cluster').median(), cmap=\"Oranges\", linewidths=1, \n",
    "            square=True, annot=True, fmt='.2f',ax=ax[0]);\n",
    "sns.heatmap(dx[cols].groupby('cluster').median(), cmap=\"Blues\", linewidths=1, \n",
    "            square=True, annot=True, fmt='.2f', ax=ax[1]);"
   ]
  },
  {
   "cell_type": "markdown",
   "metadata": {},
   "source": [
    "For compare before scaling and after scaling."
   ]
  },
  {
   "cell_type": "code",
   "execution_count": 24,
   "metadata": {},
   "outputs": [
    {
     "data": {
      "text/html": [
       "<div>\n",
       "<style scoped>\n",
       "    .dataframe tbody tr th:only-of-type {\n",
       "        vertical-align: middle;\n",
       "    }\n",
       "\n",
       "    .dataframe tbody tr th {\n",
       "        vertical-align: top;\n",
       "    }\n",
       "\n",
       "    .dataframe thead th {\n",
       "        text-align: right;\n",
       "    }\n",
       "</style>\n",
       "<table border=\"1\" class=\"dataframe\">\n",
       "  <thead>\n",
       "    <tr style=\"text-align: right;\">\n",
       "      <th></th>\n",
       "      <th>Airfoils</th>\n",
       "      <th>t0.75c</th>\n",
       "      <th>Cd</th>\n",
       "      <th>Cl/Cd</th>\n",
       "      <th>cluster</th>\n",
       "    </tr>\n",
       "  </thead>\n",
       "  <tbody>\n",
       "    <tr>\n",
       "      <th>3</th>\n",
       "      <td>NACA 63-210</td>\n",
       "      <td>0.04332</td>\n",
       "      <td>0.01117</td>\n",
       "      <td>44.762757</td>\n",
       "      <td>0</td>\n",
       "    </tr>\n",
       "    <tr>\n",
       "      <th>4</th>\n",
       "      <td>NACA 63-212</td>\n",
       "      <td>0.05112</td>\n",
       "      <td>0.01127</td>\n",
       "      <td>44.365572</td>\n",
       "      <td>0</td>\n",
       "    </tr>\n",
       "    <tr>\n",
       "      <th>7</th>\n",
       "      <td>NACA 63-412</td>\n",
       "      <td>0.05108</td>\n",
       "      <td>0.01113</td>\n",
       "      <td>44.923630</td>\n",
       "      <td>0</td>\n",
       "    </tr>\n",
       "    <tr>\n",
       "      <th>20</th>\n",
       "      <td>NACA 66-021</td>\n",
       "      <td>0.12502</td>\n",
       "      <td>0.01682</td>\n",
       "      <td>29.726516</td>\n",
       "      <td>1</td>\n",
       "    </tr>\n",
       "    <tr>\n",
       "      <th>29</th>\n",
       "      <td>NACA 63(4)-221</td>\n",
       "      <td>0.08318</td>\n",
       "      <td>0.01440</td>\n",
       "      <td>34.722222</td>\n",
       "      <td>1</td>\n",
       "    </tr>\n",
       "    <tr>\n",
       "      <th>42</th>\n",
       "      <td>NACA 64(4)-221</td>\n",
       "      <td>0.08830</td>\n",
       "      <td>0.01462</td>\n",
       "      <td>34.199726</td>\n",
       "      <td>1</td>\n",
       "    </tr>\n",
       "    <tr>\n",
       "      <th>0</th>\n",
       "      <td>NACA 63A010</td>\n",
       "      <td>0.05090</td>\n",
       "      <td>0.01236</td>\n",
       "      <td>40.453074</td>\n",
       "      <td>2</td>\n",
       "    </tr>\n",
       "    <tr>\n",
       "      <th>1</th>\n",
       "      <td>NACA 63012A</td>\n",
       "      <td>0.06052</td>\n",
       "      <td>0.01244</td>\n",
       "      <td>40.192926</td>\n",
       "      <td>2</td>\n",
       "    </tr>\n",
       "    <tr>\n",
       "      <th>2</th>\n",
       "      <td>NACA 63-015A</td>\n",
       "      <td>0.07462</td>\n",
       "      <td>0.01364</td>\n",
       "      <td>36.656892</td>\n",
       "      <td>2</td>\n",
       "    </tr>\n",
       "  </tbody>\n",
       "</table>\n",
       "</div>"
      ],
      "text/plain": [
       "          Airfoils   t0.75c       Cd      Cl/Cd  cluster\n",
       "3      NACA 63-210  0.04332  0.01117  44.762757        0\n",
       "4      NACA 63-212  0.05112  0.01127  44.365572        0\n",
       "7      NACA 63-412  0.05108  0.01113  44.923630        0\n",
       "20     NACA 66-021  0.12502  0.01682  29.726516        1\n",
       "29  NACA 63(4)-221  0.08318  0.01440  34.722222        1\n",
       "42  NACA 64(4)-221  0.08830  0.01462  34.199726        1\n",
       "0      NACA 63A010  0.05090  0.01236  40.453074        2\n",
       "1      NACA 63012A  0.06052  0.01244  40.192926        2\n",
       "2     NACA 63-015A  0.07462  0.01364  36.656892        2"
      ]
     },
     "execution_count": 24,
     "metadata": {},
     "output_type": "execute_result"
    }
   ],
   "source": [
    "df.groupby('cluster').head(3).sort_values('cluster')"
   ]
  },
  {
   "cell_type": "code",
   "execution_count": 25,
   "metadata": {
    "scrolled": false
   },
   "outputs": [
    {
     "data": {
      "text/html": [
       "<div>\n",
       "<style scoped>\n",
       "    .dataframe tbody tr th:only-of-type {\n",
       "        vertical-align: middle;\n",
       "    }\n",
       "\n",
       "    .dataframe tbody tr th {\n",
       "        vertical-align: top;\n",
       "    }\n",
       "\n",
       "    .dataframe thead th {\n",
       "        text-align: right;\n",
       "    }\n",
       "</style>\n",
       "<table border=\"1\" class=\"dataframe\">\n",
       "  <thead>\n",
       "    <tr style=\"text-align: right;\">\n",
       "      <th></th>\n",
       "      <th>Airfoils</th>\n",
       "      <th>t0.75c</th>\n",
       "      <th>Cd</th>\n",
       "      <th>Cl/Cd</th>\n",
       "      <th>cluster</th>\n",
       "    </tr>\n",
       "  </thead>\n",
       "  <tbody>\n",
       "    <tr>\n",
       "      <th>20</th>\n",
       "      <td>NACA 66-021</td>\n",
       "      <td>0.12502</td>\n",
       "      <td>0.01682</td>\n",
       "      <td>29.726516</td>\n",
       "      <td>1</td>\n",
       "    </tr>\n",
       "    <tr>\n",
       "      <th>29</th>\n",
       "      <td>NACA 63(4)-221</td>\n",
       "      <td>0.08318</td>\n",
       "      <td>0.01440</td>\n",
       "      <td>34.722222</td>\n",
       "      <td>1</td>\n",
       "    </tr>\n",
       "    <tr>\n",
       "      <th>42</th>\n",
       "      <td>NACA 64(4)-221</td>\n",
       "      <td>0.08830</td>\n",
       "      <td>0.01462</td>\n",
       "      <td>34.199726</td>\n",
       "      <td>1</td>\n",
       "    </tr>\n",
       "    <tr>\n",
       "      <th>43</th>\n",
       "      <td>NACA 64(4)-421</td>\n",
       "      <td>0.08826</td>\n",
       "      <td>0.01397</td>\n",
       "      <td>35.790981</td>\n",
       "      <td>1</td>\n",
       "    </tr>\n",
       "    <tr>\n",
       "      <th>56</th>\n",
       "      <td>NACA 65(3)-218</td>\n",
       "      <td>0.08790</td>\n",
       "      <td>0.01405</td>\n",
       "      <td>35.587189</td>\n",
       "      <td>1</td>\n",
       "    </tr>\n",
       "  </tbody>\n",
       "</table>\n",
       "</div>"
      ],
      "text/plain": [
       "          Airfoils   t0.75c       Cd      Cl/Cd  cluster\n",
       "20     NACA 66-021  0.12502  0.01682  29.726516        1\n",
       "29  NACA 63(4)-221  0.08318  0.01440  34.722222        1\n",
       "42  NACA 64(4)-221  0.08830  0.01462  34.199726        1\n",
       "43  NACA 64(4)-421  0.08826  0.01397  35.790981        1\n",
       "56  NACA 65(3)-218  0.08790  0.01405  35.587189        1"
      ]
     },
     "execution_count": 25,
     "metadata": {},
     "output_type": "execute_result"
    }
   ],
   "source": [
    "df_cluster_0 = df[df.cluster==0]\n",
    "df_cluster_1 = df[df.cluster==1]\n",
    "df_cluster_2 = df[df.cluster==2]\n",
    "df_cluster_1.head()"
   ]
  },
  {
   "cell_type": "markdown",
   "metadata": {},
   "source": [
    "# Save to file after finish"
   ]
  },
  {
   "cell_type": "code",
   "execution_count": 26,
   "metadata": {},
   "outputs": [],
   "source": [
    "# df.to_csv('AirfoilsCluster.csv', index=False)"
   ]
  },
  {
   "cell_type": "code",
   "execution_count": 27,
   "metadata": {},
   "outputs": [],
   "source": [
    "# df_cluster_0.to_csv('airfoil_cluster_0.csv', index=False)\n",
    "# df_cluster_1.to_csv('airfoil_cluster_1.csv', index=False)\n",
    "# df_cluster_2.to_csv('airfoil_cluster_2.csv', index=False)"
   ]
  }
 ],
 "metadata": {
  "kernelspec": {
   "display_name": "Python 3",
   "language": "python",
   "name": "python3"
  },
  "language_info": {
   "codemirror_mode": {
    "name": "ipython",
    "version": 3
   },
   "file_extension": ".py",
   "mimetype": "text/x-python",
   "name": "python",
   "nbconvert_exporter": "python",
   "pygments_lexer": "ipython3",
   "version": "3.7.6"
  }
 },
 "nbformat": 4,
 "nbformat_minor": 4
}
